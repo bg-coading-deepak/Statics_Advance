{
 "cells": [
  {
   "cell_type": "markdown",
   "id": "3719a1de",
   "metadata": {},
   "source": [
    "### Q-1 What are the Probability Mass Function (PMF) and Probability Density Function (PDF)? Explain with an example."
   ]
  },
  {
   "cell_type": "code",
   "execution_count": null,
   "id": "ddb627da",
   "metadata": {},
   "outputs": [],
   "source": [
    "The probability mass function (PMF) is used to describe discrete probability distributions.\n",
    "In contrast, the probability density function (PDF) is applied to describe continuous probability\n",
    "distributions."
   ]
  },
  {
   "cell_type": "code",
   "execution_count": null,
   "id": "9cc730a6",
   "metadata": {},
   "outputs": [],
   "source": [
    "Example:- pmf\n",
    "    Let X be a random variable, and P(X=x) is the PMF given by,\n",
    "    X\t0\t1\t2\t3\t4\t5\t6\t7\n",
    "    P(X=x)\t0\tk\t2k\t2k\t3k\tk2\t2k2\t7k2+k"
   ]
  },
  {
   "cell_type": "code",
   "execution_count": null,
   "id": "8e512ea4",
   "metadata": {},
   "outputs": [],
   "source": [
    "Exaple:- pdf\n",
    "    Let X be a continuous random variable with the PDF given by.\n",
    "    Find P(0.5 < x < 1.5)."
   ]
  },
  {
   "cell_type": "markdown",
   "id": "51582d15",
   "metadata": {},
   "source": [
    "### Q2: What is Cumulative Density Function (CDF)? Explain with an example. Why CDF is used?"
   ]
  },
  {
   "cell_type": "code",
   "execution_count": null,
   "id": "74ad9dbb",
   "metadata": {},
   "outputs": [],
   "source": [
    "The Cumulative Distribution Function (CDF) of a real-valued random variable X, evaluated at x,\n",
    "is the probability function that X will take a value less than or equal to x.\n",
    "It is used to describe the probability distribution of random variables in a table."
   ]
  },
  {
   "cell_type": "code",
   "execution_count": null,
   "id": "d644c9e5",
   "metadata": {},
   "outputs": [],
   "source": [
    "Example:-\n",
    "    at point x=1, the CDF jumps from 14 to 34. The size of the jump here is 34−14=12 \n",
    "    which is equal to PX(1)."
   ]
  },
  {
   "cell_type": "code",
   "execution_count": null,
   "id": "7e3fd6d7",
   "metadata": {},
   "outputs": [],
   "source": [
    "Use the CDF :-\n",
    "to determine the probability that a random observation that is taken from the population will be less than or equal to a certain value."
   ]
  },
  {
   "cell_type": "markdown",
   "id": "291dcbe6",
   "metadata": {},
   "source": [
    "### Q3: What are some examples of situations where the normal distribution might be used as a model? Explain how the parameters of the normal distribution relate to the shape of the distribution."
   ]
  },
  {
   "cell_type": "code",
   "execution_count": null,
   "id": "b23003aa",
   "metadata": {},
   "outputs": [],
   "source": [
    "Real Life Examples Of Normal Distribution:-\n",
    "    \n",
    "    >Height. The height of people is an example of normal distribution. ...\n",
    "    >Rolling A Dice. A fair rolling of dice is also a good example of normal distribution. ...\n",
    "    >Tossing A Coin. ...\n",
    "    >IQ. ...\n",
    "    >Technical Stock Market. ...\n",
    "    >Blood Pressure. ...\n",
    "    >Shoe Size. ...\n",
    "    >Birth Weight."
   ]
  },
  {
   "cell_type": "code",
   "execution_count": null,
   "id": "5c06bfd5",
   "metadata": {},
   "outputs": [],
   "source": [
    "Parameters of Normal Distribution :-\n",
    "    \n",
    "    The two main parameters of a (normal) distribution are the mean and standard deviation.\n",
    "    The parameters determine the shape and probabilities of the distribution.\n",
    "    The shape of the distribution changes as the parameter values change"
   ]
  },
  {
   "cell_type": "markdown",
   "id": "3d2db4e7",
   "metadata": {},
   "source": [
    "### Q4: Explain the importance of Normal Distribution. Give a few real-life examples of Normal Distribution."
   ]
  },
  {
   "cell_type": "code",
   "execution_count": null,
   "id": "197df31c",
   "metadata": {},
   "outputs": [],
   "source": [
    "the normal distribution describes how the values of a variable are distributed.\n",
    "It is the most important probability distribution in statistics because it accurately describes\n",
    "the distribution of values for many natural phenomena."
   ]
  },
  {
   "cell_type": "code",
   "execution_count": null,
   "id": "8ea917b9",
   "metadata": {},
   "outputs": [],
   "source": [
    "Real-life examples of Normal Distribution:-\n",
    "\n",
    "Technical Stock Market. ...\n",
    "Blood Pressure. ...\n",
    "Shoe Size. ...\n",
    "Birth Weight."
   ]
  },
  {
   "cell_type": "markdown",
   "id": "7020bf5a",
   "metadata": {},
   "source": [
    "### Q5: What is Bernaulli Distribution? Give an Example. What is the difference between Bernoulli Distribution and Binomial Distribution?"
   ]
  },
  {
   "cell_type": "code",
   "execution_count": null,
   "id": "ed44fc0c",
   "metadata": {},
   "outputs": [],
   "source": [
    "Bernoulli distribution is a discrete probability distribution.\n",
    "It describes the probability of achieving a “success” or “failure” from a Bernoulli trial.\n",
    "Exapmles:-\n",
    "    >will a coin land on heads (success) or tails (failure)?\n",
    "    "
   ]
  },
  {
   "cell_type": "code",
   "execution_count": null,
   "id": "27144554",
   "metadata": {},
   "outputs": [],
   "source": [
    "Difference between Bernoulli Distribution and Binomial Distribution:-\n",
    "    \n",
    "The Bernoulli distribution represents the success or failure of a single Bernoulli trial.\n",
    "The Binomial Distribution represents the number of successes and failures in n independent \n",
    "Bernoulli trials for some given value of n."
   ]
  },
  {
   "cell_type": "markdown",
   "id": "321d4649",
   "metadata": {},
   "source": [
    "### Q6. Consider a dataset with a mean of 50 and a standard deviation of 10. If we assume that the dataset is normally distributed, what is the probability that a randomly selected observation will be greater than 60? Use the appropriate formula and show your calculations.\n"
   ]
  },
  {
   "cell_type": "code",
   "execution_count": null,
   "id": "1704fefc",
   "metadata": {},
   "outputs": [],
   "source": [
    "SOlve:-\n",
    "    \n",
    "    µ=50,  σ=10\n",
    "    X=60\n",
    "    \n",
    "    z_score = (X - µ)/σ\n",
    "    \n",
    "    # now fill the value\n",
    "    \n",
    "    z_score = (60-50)/10\n",
    "    \n",
    "    z_score = +1 #(positive)\n",
    "    \n",
    "  # now we check the z_table and take +1's value from there\n",
    "    \n",
    "     Area under the curve (>=60)\n",
    "        = 0.3413\n",
    "    # if we change in the percentage then \n",
    "    \n",
    "        = 0.3413*100\n",
    "        = 34.13% Answer.\n",
    "        "
   ]
  },
  {
   "cell_type": "markdown",
   "id": "c2130150",
   "metadata": {},
   "source": [
    "### Q7: Explain uniform Distribution with an example."
   ]
  },
  {
   "cell_type": "code",
   "execution_count": null,
   "id": "aa5d7a32",
   "metadata": {},
   "outputs": [],
   "source": [
    "Uniform distribution refers to a type of probability distribution in which all outcomes\n",
    "are equally likely.\n",
    "\n",
    "Examples:-\n",
    "    A deck of cards has within it uniform distributions because the likelihood of drawing a heart, \n",
    "    a club, a diamond, or a spade is equally likely.\n",
    "    "
   ]
  },
  {
   "cell_type": "markdown",
   "id": "a0b36d09",
   "metadata": {},
   "source": [
    "### Q8: What is the z score? State the importance of the z score."
   ]
  },
  {
   "cell_type": "code",
   "execution_count": null,
   "id": "215b3558",
   "metadata": {},
   "outputs": [],
   "source": [
    "A z-score is a statistical measurement that tells you how far away from the mean (or average)\n",
    "your datum lies in a normally distributed sample."
   ]
  },
  {
   "cell_type": "code",
   "execution_count": null,
   "id": "9618b351",
   "metadata": {},
   "outputs": [],
   "source": [
    "Importance of the z score:-\n",
    "     By using z scores allows communication researchers to make comparisons across data derived \n",
    "    from different normally distributed samples. "
   ]
  },
  {
   "cell_type": "markdown",
   "id": "7d5b0ec9",
   "metadata": {},
   "source": [
    "### Q9: What is Central Limit Theorem? State the significance of the Central Limit Theorem."
   ]
  },
  {
   "cell_type": "code",
   "execution_count": null,
   "id": "2204ef9a",
   "metadata": {},
   "outputs": [],
   "source": [
    "In probability theory, the central limit theorem (CLT) states that the distribution of a sample\n",
    "variable approximates a normal distribution (i.e., a “bell curve”) as the sample size becomes\n",
    "larger, assuming that all samples are identical in size,\n",
    "and regardless of the population's actual distribution shape."
   ]
  },
  {
   "cell_type": "code",
   "execution_count": null,
   "id": "8091679e",
   "metadata": {},
   "outputs": [],
   "source": [
    "The central limit theorem says that the sampling distribution of the mean will always be normally distributed,\n",
    "as long as the sample size is large enough."
   ]
  },
  {
   "cell_type": "markdown",
   "id": "91a164c0",
   "metadata": {},
   "source": [
    "### Q10: State the assumptions of the Central Limit Theorem."
   ]
  },
  {
   "cell_type": "code",
   "execution_count": null,
   "id": "07646d8e",
   "metadata": {},
   "outputs": [],
   "source": [
    "It needs to be sampled at random. The samples should be unrelated to one another.\n",
    "One sample should not impact the others. When taking samples without replacement,\n",
    "the sample size should not exceed 10% of the population."
   ]
  }
 ],
 "metadata": {
  "kernelspec": {
   "display_name": "Python 3 (ipykernel)",
   "language": "python",
   "name": "python3"
  },
  "language_info": {
   "codemirror_mode": {
    "name": "ipython",
    "version": 3
   },
   "file_extension": ".py",
   "mimetype": "text/x-python",
   "name": "python",
   "nbconvert_exporter": "python",
   "pygments_lexer": "ipython3",
   "version": "3.9.12"
  }
 },
 "nbformat": 4,
 "nbformat_minor": 5
}
